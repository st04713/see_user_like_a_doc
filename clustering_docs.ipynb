{
 "cells": [
  {
   "cell_type": "code",
   "execution_count": 4,
   "metadata": {},
   "outputs": [],
   "source": [
    "import pandas as pd\n",
    "import numpy as np\n",
    "\n",
    "from sklearn.cluster import KMeans\n",
    "from sklearn.metrics import accuracy_score\n",
    "\n",
    "import matplotlib.pyplot as plt\n",
    "%matplotlib inline"
   ]
  },
  {
   "cell_type": "code",
   "execution_count": 5,
   "metadata": {},
   "outputs": [],
   "source": [
    "# load data \n",
    "docs_df = pd.read_csv('./test_user_pref_count_20190607_10000_100.csv')\n",
    "\n",
    "X = docs_df.drop(['user_pref'],axis=1)\n",
    "y = docs_df['user_pref']"
   ]
  },
  {
   "cell_type": "code",
   "execution_count": 6,
   "metadata": {},
   "outputs": [
    {
     "data": {
      "text/plain": [
       "Text(0.5, 1.0, 'Elbow method')"
      ]
     },
     "execution_count": 6,
     "metadata": {},
     "output_type": "execute_result"
    },
    {
     "data": {
      "image/png": "[encoded data removed]",
      "text/plain": [
       "<Figure size 432x288 with 1 Axes>"
      ]
     },
     "metadata": {
      "needs_background": "light"
     },
     "output_type": "display_data"
    }
   ],
   "source": [
    "# normalize data \n",
    "X_normalize = X.apply(lambda x : x/np.sum(x),axis=1).values\n",
    "\n",
    "# select the number of clusters via \"the elbow method\n",
    "wcss = []\n",
    "for i in range(1,10):\n",
    "    kmeans = KMeans(n_clusters=i, init='k-means++')\n",
    "    kmeans.fit(X_normalize)\n",
    "    wcss.append(kmeans.inertia_)\n",
    "    \n",
    "# plot 'n_clusters vs. within-cluster sum_square'\n",
    "x = range(1,10)\n",
    "plt.plot(x,wcss,marker='o')\n",
    "plt.xlabel('n_clusters')\n",
    "plt.ylabel('wcss')\n",
    "plt.title('Elbow method')"
   ]
  },
  {
   "cell_type": "code",
   "execution_count": 7,
   "metadata": {},
   "outputs": [
    {
     "name": "stdout",
     "output_type": "stream",
     "text": [
      "[2 3 1 3 2 1 3 3 1 1]\n",
      "0       music_lover\n",
      "1000     idol_otaku\n",
      "2000     sports_man\n",
      "3000     idol_otaku\n",
      "4000    music_lover\n",
      "5000     sports_man\n",
      "6000     idol_otaku\n",
      "7000     idol_otaku\n",
      "8000     sports_man\n",
      "9000     sports_man\n",
      "Name: user_pref, dtype: object\n"
     ]
    }
   ],
   "source": [
    "# use elbow_k_cluster to fit \n",
    "\n",
    "k_means = KMeans(n_clusters=4)\n",
    "k_means.fit(X_normalize) \n",
    "y_pred = k_means.labels_\n",
    "print(y_pred[::1000])\n",
    "print(y[::1000])"
   ]
  },
  {
   "cell_type": "code",
   "execution_count": 8,
   "metadata": {},
   "outputs": [
    {
     "name": "stdout",
     "output_type": "stream",
     "text": [
      "accuracy: 0.9993\n"
     ]
    }
   ],
   "source": [
    "pref_to_clust = {'idol_otaku':3,'music_lover':2,'sports_man':1,'foodie':0}\n",
    "y_true = y.apply(lambda x : pref_to_clust[x])\n",
    "\n",
    "# Accuaray\n",
    "print('accuracy:',accuracy_score(y_true, y_pred, normalize=True))"
   ]
  },
  {
   "cell_type": "code",
   "execution_count": null,
   "metadata": {},
   "outputs": [],
   "source": []
  }
 ],
 "metadata": {
  "kernelspec": {
   "display_name": "Python 3",
   "language": "python",
   "name": "python3"
  },
  "language_info": {
   "codemirror_mode": {
    "name": "ipython",
    "version": 3
   },
   "file_extension": ".py",
   "mimetype": "text/x-python",
   "name": "python",
   "nbconvert_exporter": "python",
   "pygments_lexer": "ipython3",
   "version": "3.7.1"
  }
 },
 "nbformat": 4,
 "nbformat_minor": 2
}
